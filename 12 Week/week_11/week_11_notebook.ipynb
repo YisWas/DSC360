{
 "cells": [
  {
   "cell_type": "code",
   "execution_count": 1,
   "metadata": {},
   "outputs": [],
   "source": [
    "import tensorflow as tf\n",
    "import tensorflow_hub as hub\n",
    "import numpy as np\n",
    "import pandas as pd"
   ]
  },
  {
   "cell_type": "markdown",
   "metadata": {},
   "source": [
    "## This code differs from the book because the `tf.test.is_gpu_available()` is depricated."
   ]
  },
  {
   "cell_type": "code",
   "execution_count": 3,
   "metadata": {},
   "outputs": [
    {
     "data": {
      "text/plain": [
       "[]"
      ]
     },
     "execution_count": 3,
     "metadata": {},
     "output_type": "execute_result"
    }
   ],
   "source": [
    "tf.config.list_physical_devices('GPU')"
   ]
  },
  {
   "cell_type": "markdown",
   "metadata": {},
   "source": [
    "## Get the Data\n",
    "This is found in my GitHub - the link in the code is relative, so if you've downloaded the GitHub repository, this should work as-is."
   ]
  },
  {
   "cell_type": "code",
   "execution_count": 5,
   "metadata": {},
   "outputs": [
    {
     "name": "stdout",
     "output_type": "stream",
     "text": [
      "<class 'pandas.core.frame.DataFrame'>\n",
      "RangeIndex: 50000 entries, 0 to 49999\n",
      "Data columns (total 2 columns):\n",
      "review       50000 non-null object\n",
      "sentiment    50000 non-null object\n",
      "dtypes: object(2)\n",
      "memory usage: 781.3+ KB\n"
     ]
    }
   ],
   "source": [
    "dataset = pd.read_csv('./data/movie_reviews.csv.bz2', compression='bz2')\n",
    "dataset.info()"
   ]
  },
  {
   "cell_type": "code",
   "execution_count": 6,
   "metadata": {},
   "outputs": [
    {
     "data": {
      "text/html": [
       "<div>\n",
       "<style scoped>\n",
       "    .dataframe tbody tr th:only-of-type {\n",
       "        vertical-align: middle;\n",
       "    }\n",
       "\n",
       "    .dataframe tbody tr th {\n",
       "        vertical-align: top;\n",
       "    }\n",
       "\n",
       "    .dataframe thead th {\n",
       "        text-align: right;\n",
       "    }\n",
       "</style>\n",
       "<table border=\"1\" class=\"dataframe\">\n",
       "  <thead>\n",
       "    <tr style=\"text-align: right;\">\n",
       "      <th></th>\n",
       "      <th>review</th>\n",
       "      <th>sentiment</th>\n",
       "    </tr>\n",
       "  </thead>\n",
       "  <tbody>\n",
       "    <tr>\n",
       "      <th>0</th>\n",
       "      <td>One of the other reviewers has mentioned that ...</td>\n",
       "      <td>1</td>\n",
       "    </tr>\n",
       "    <tr>\n",
       "      <th>1</th>\n",
       "      <td>A wonderful little production. &lt;br /&gt;&lt;br /&gt;The...</td>\n",
       "      <td>1</td>\n",
       "    </tr>\n",
       "    <tr>\n",
       "      <th>2</th>\n",
       "      <td>I thought this was a wonderful way to spend ti...</td>\n",
       "      <td>1</td>\n",
       "    </tr>\n",
       "    <tr>\n",
       "      <th>3</th>\n",
       "      <td>Basically there's a family where a little boy ...</td>\n",
       "      <td>0</td>\n",
       "    </tr>\n",
       "    <tr>\n",
       "      <th>4</th>\n",
       "      <td>Petter Mattei's \"Love in the Time of Money\" is...</td>\n",
       "      <td>1</td>\n",
       "    </tr>\n",
       "  </tbody>\n",
       "</table>\n",
       "</div>"
      ],
      "text/plain": [
       "                                              review  sentiment\n",
       "0  One of the other reviewers has mentioned that ...          1\n",
       "1  A wonderful little production. <br /><br />The...          1\n",
       "2  I thought this was a wonderful way to spend ti...          1\n",
       "3  Basically there's a family where a little boy ...          0\n",
       "4  Petter Mattei's \"Love in the Time of Money\" is...          1"
      ]
     },
     "execution_count": 6,
     "metadata": {},
     "output_type": "execute_result"
    }
   ],
   "source": [
    "dataset['sentiment'] = [1 if sentiment == 'positive' else 0 for sentiment in dataset['sentiment'].values]\n",
    "dataset.head()"
   ]
  },
  {
   "cell_type": "markdown",
   "metadata": {},
   "source": [
    "## Build Train, Validate, and Test Datasets"
   ]
  },
  {
   "cell_type": "code",
   "execution_count": 7,
   "metadata": {},
   "outputs": [
    {
     "data": {
      "text/plain": [
       "((30000,), (5000,), (15000,))"
      ]
     },
     "execution_count": 7,
     "metadata": {},
     "output_type": "execute_result"
    }
   ],
   "source": [
    "reviews = dataset['review'].values\n",
    "sentiments = dataset['sentiment'].values\n",
    "\n",
    "train_reviews = reviews[:30000]\n",
    "train_sentiments = sentiments[:30000]\n",
    "\n",
    "val_reviews = reviews[30000:35000]\n",
    "val_sentiments = sentiments[30000:35000]\n",
    "\n",
    "test_reviews = reviews[35000:]\n",
    "test_sentiments = sentiments[35000:]\n",
    "train_reviews.shape, val_reviews.shape, test_reviews.shape"
   ]
  },
  {
   "cell_type": "markdown",
   "metadata": {},
   "source": [
    "## Basic Text Wrangling\n",
    "\n",
    "I'm not using the `contractions` package because it collides with Microsoft C++ my desktop and prior to this point (see Week 4), the author used a different method to remove contractions - using that method instead. Note that `contractions.py` must be in the same directory as this Jupyter Notebook."
   ]
  },
  {
   "cell_type": "code",
   "execution_count": 11,
   "metadata": {},
   "outputs": [],
   "source": [
    "from contractions import CONTRACTION_MAP\n",
    "from bs4 import BeautifulSoup\n",
    "import unicodedata\n",
    "import re\n",
    "\n",
    "def strip_html_tags(text):\n",
    "    soup = BeautifulSoup(text, \"html.parser\")\n",
    "    [s.extract() for s in soup(['iframe', 'script'])]\n",
    "    stripped_text = soup.get_text()\n",
    "    stripped_text = re.sub(r'[\\r|\\n|\\r\\n]+', '\\n', stripped_text)\n",
    "    return stripped_text\n",
    "\n",
    "def remove_accented_chars(text):\n",
    "    text = unicodedata.normalize('NFKD', text).encode('ascii', 'ignore').decode('utf-8', 'ignore')\n",
    "    return text\n",
    "\n",
    "def expand_contractions(sentence, contraction_mapping=CONTRACTION_MAP):\n",
    "    contractions_pattern = re.compile('({})'.format('|'.join(contraction_mapping.keys())), \n",
    "                                      flags=re.IGNORECASE|re.DOTALL)\n",
    "    def expand_match(contraction):\n",
    "        match = contraction.group(0)\n",
    "        first_char = match[0]\n",
    "        expanded_contraction = contraction_mapping.get(match)\\\n",
    "                                if contraction_mapping.get(match)\\\n",
    "                                else contraction_mapping.get(match.lower())                       \n",
    "        expanded_contraction = first_char+expanded_contraction[1:]\n",
    "        return expanded_contraction\n",
    "\n",
    "    expaned_text = contractions_pattern.sub(expand_match, sentence)\n",
    "    expanded_text = re.sub(\"'\", \"\", expaned_text)\n",
    "    \n",
    "    return expanded_text\n",
    "\n",
    "def remove_special_characters(text, remove_digits=False):\n",
    "    pattern = r'[^a-zA-Z0-9\\s]' if not remove_digits else r'[^a-zA-Z\\s]'\n",
    "    text = re.sub(pattern, '', text)\n",
    "    return text\n",
    "\n",
    "def pre_process_document(document):   \n",
    "    # strip HTML\n",
    "    document = strip_html_tags(document)\n",
    "    \n",
    "    # lower case\n",
    "    document = document.lower()\n",
    "    \n",
    "    # remove extra newlines (often might be present in really noisy text)\n",
    "    document = document.translate(document.maketrans(\"\\n\\t\\r\", \"   \"))\n",
    "    \n",
    "    # remove accented characters\n",
    "    document = remove_accented_chars(document)\n",
    "    \n",
    "    # expand contractions    \n",
    "    document = expand_contractions(document)\n",
    "               \n",
    "    # remove special characters and\\or digits    \n",
    "    # insert spaces between special characters to isolate them    \n",
    "    special_char_pattern = re.compile(r'([{.(-)!}])')\n",
    "    document = special_char_pattern.sub(\" \\\\1 \", document)\n",
    "    document = remove_special_characters(document, remove_digits=True)  \n",
    "        \n",
    "    # remove extra whitespace\n",
    "    document = re.sub(' +', ' ', document)\n",
    "    document = document.strip()\n",
    "   \n",
    "    return document\n",
    "\n",
    "pre_process_corpus = np.vectorize(pre_process_document)\n",
    "train_reviews = pre_process_corpus(train_reviews)\n",
    "val_reviews = pre_process_corpus(val_reviews)\n",
    "test_reviews = pre_process_corpus(test_reviews)"
   ]
  },
  {
   "cell_type": "markdown",
   "metadata": {},
   "source": [
    "## Build Data Ingestion Functions\n",
    "TensorFlow has changed quite a bit - including the use of Karas - but instead of completely rebuilding the author's code, I opted instead to use a compatibility mode. This means my code is slightly different than the author's."
   ]
  },
  {
   "cell_type": "code",
   "execution_count": 13,
   "metadata": {},
   "outputs": [],
   "source": [
    "# Training input on the whole training set with no limit on training epochs.\n",
    "train_input_fn = tf.compat.v1.estimator.inputs.numpy_input_fn(\n",
    "    {'sentence': train_reviews}, train_sentiments, \n",
    "    batch_size=256, num_epochs=None, shuffle=True)"
   ]
  },
  {
   "cell_type": "code",
   "execution_count": 14,
   "metadata": {},
   "outputs": [],
   "source": [
    "# Prediction on the whole training set.\n",
    "predict_train_input_fn = tf.compat.v1.estimator.inputs.numpy_input_fn(\n",
    "    {'sentence': train_reviews}, train_sentiments, shuffle=False)"
   ]
  },
  {
   "cell_type": "code",
   "execution_count": 15,
   "metadata": {},
   "outputs": [],
   "source": [
    "# Prediction on the whole validation set.\n",
    "predict_val_input_fn = tf.compat.v1.estimator.inputs.numpy_input_fn(\n",
    "    {'sentence': val_reviews}, val_sentiments, shuffle=False)"
   ]
  },
  {
   "cell_type": "code",
   "execution_count": 16,
   "metadata": {},
   "outputs": [],
   "source": [
    "# Prediction on the test set.\n",
    "predict_test_input_fn = tf.compat.v1.estimator.inputs.numpy_input_fn(\n",
    "    {'sentence': test_reviews}, test_sentiments, shuffle=False)"
   ]
  },
  {
   "cell_type": "markdown",
   "metadata": {},
   "source": [
    "## Build Deep Learning Model with Universal Sentence Encoder"
   ]
  },
  {
   "cell_type": "code",
   "execution_count": 17,
   "metadata": {},
   "outputs": [],
   "source": [
    "embedding_feature = hub.text_embedding_column(\n",
    "    key='sentence', \n",
    "    module_spec=\"https://tfhub.dev/google/universal-sentence-encoder/2\",\n",
    "    trainable=False)"
   ]
  },
  {
   "cell_type": "markdown",
   "metadata": {},
   "source": [
    "### Note again that I'm using the V1 compatibility mode for TensorFlow."
   ]
  },
  {
   "cell_type": "code",
   "execution_count": 26,
   "metadata": {},
   "outputs": [],
   "source": [
    "dnn = tf.compat.v1.estimator.DNNClassifier(\n",
    "    hidden_units=[512, 128],\n",
    "    feature_columns=[embedding_feature],\n",
    "    n_classes=2,\n",
    "    activation_fn=tf.nn.relu,\n",
    "    dropout=0.1,\n",
    "    optimizer=tf.compat.v1.train.AdagradOptimizer(learning_rate=0.005))"
   ]
  },
  {
   "cell_type": "markdown",
   "metadata": {},
   "source": [
    "## Model Training\n",
    "The following code takes quite a while to run. You can shorted the run time by changing TOTAL_STEPS to something like 600."
   ]
  },
  {
   "cell_type": "code",
   "execution_count": 27,
   "metadata": {},
   "outputs": [
    {
     "name": "stdout",
     "output_type": "stream",
     "text": [
      "\n",
      "----------------------------------------------------------------------------------------------------\n",
      "Training for step = 0\n",
      "Train Time (s): 61.09406590461731\n",
      "Eval Metrics (Train): {'accuracy': 0.85046667, 'accuracy_baseline': 0.5005, 'auc': 0.9284469, 'auc_precision_recall': 0.92871547, 'average_loss': 0.342943, 'label/mean': 0.5005, 'loss': 43.779957, 'precision': 0.84473836, 'prediction/mean': 0.5136904, 'recall': 0.8591409, 'global_step': 100}\n",
      "Eval Metrics (Validation): {'accuracy': 0.844, 'accuracy_baseline': 0.505, 'auc': 0.9250796, 'auc_precision_recall': 0.9211948, 'average_loss': 0.35196552, 'label/mean': 0.495, 'loss': 43.99569, 'precision': 0.8250863, 'prediction/mean': 0.5190092, 'recall': 0.8690909, 'global_step': 100}\n",
      "\n",
      "----------------------------------------------------------------------------------------------------\n",
      "Training for step = 100\n",
      "Train Time (s): 61.602142333984375\n",
      "Eval Metrics (Train): {'accuracy': 0.85476667, 'accuracy_baseline': 0.5005, 'auc': 0.93286824, 'auc_precision_recall': 0.9331527, 'average_loss': 0.33230636, 'label/mean': 0.5005, 'loss': 42.42209, 'precision': 0.8472566, 'prediction/mean': 0.5154802, 'recall': 0.8659341, 'global_step': 200}\n",
      "Eval Metrics (Validation): {'accuracy': 0.8494, 'accuracy_baseline': 0.505, 'auc': 0.9284325, 'auc_precision_recall': 0.9243065, 'average_loss': 0.3440646, 'label/mean': 0.495, 'loss': 43.008076, 'precision': 0.8316641, 'prediction/mean': 0.52037966, 'recall': 0.8723232, 'global_step': 200}\n",
      "\n",
      "----------------------------------------------------------------------------------------------------\n",
      "Training for step = 200\n",
      "Train Time (s): 60.595862865448\n",
      "Eval Metrics (Train): {'accuracy': 0.85443336, 'accuracy_baseline': 0.5005, 'auc': 0.93471575, 'auc_precision_recall': 0.9348923, 'average_loss': 0.32968825, 'label/mean': 0.5005, 'loss': 42.08786, 'precision': 0.87572336, 'prediction/mean': 0.47748372, 'recall': 0.8264402, 'global_step': 300}\n",
      "Eval Metrics (Validation): {'accuracy': 0.8502, 'accuracy_baseline': 0.505, 'auc': 0.92925346, 'auc_precision_recall': 0.9252106, 'average_loss': 0.34023303, 'label/mean': 0.495, 'loss': 42.52913, 'precision': 0.86108786, 'prediction/mean': 0.48193544, 'recall': 0.83151513, 'global_step': 300}\n",
      "\n",
      "----------------------------------------------------------------------------------------------------\n",
      "Training for step = 300\n",
      "Train Time (s): 61.41325569152832\n",
      "Eval Metrics (Train): {'accuracy': 0.8526, 'accuracy_baseline': 0.5005, 'auc': 0.9358216, 'auc_precision_recall': 0.935815, 'average_loss': 0.33155864, 'label/mean': 0.5005, 'loss': 42.326637, 'precision': 0.8873126, 'prediction/mean': 0.46158102, 'recall': 0.8081252, 'global_step': 400}\n",
      "Eval Metrics (Validation): {'accuracy': 0.8494, 'accuracy_baseline': 0.505, 'auc': 0.93014807, 'auc_precision_recall': 0.9258336, 'average_loss': 0.34170806, 'label/mean': 0.495, 'loss': 42.71351, 'precision': 0.8701634, 'prediction/mean': 0.4661873, 'recall': 0.81777775, 'global_step': 400}\n",
      "\n",
      "----------------------------------------------------------------------------------------------------\n",
      "Training for step = 400\n",
      "Train Time (s): 65.50969362258911\n",
      "Eval Metrics (Train): {'accuracy': 0.8582, 'accuracy_baseline': 0.5005, 'auc': 0.93740135, 'auc_precision_recall': 0.9372144, 'average_loss': 0.32402053, 'label/mean': 0.5005, 'loss': 41.364323, 'precision': 0.8840197, 'prediction/mean': 0.4725866, 'recall': 0.82490844, 'global_step': 500}\n",
      "Eval Metrics (Validation): {'accuracy': 0.8512, 'accuracy_baseline': 0.505, 'auc': 0.93096113, 'auc_precision_recall': 0.92607486, 'average_loss': 0.3373956, 'label/mean': 0.495, 'loss': 42.17445, 'precision': 0.86503583, 'prediction/mean': 0.4766792, 'recall': 0.8286869, 'global_step': 500}\n",
      "\n",
      "----------------------------------------------------------------------------------------------------\n",
      "Training for step = 500\n",
      "Train Time (s): 65.73370504379272\n",
      "Eval Metrics (Train): {'accuracy': 0.8558667, 'accuracy_baseline': 0.5005, 'auc': 0.9387931, 'auc_precision_recall': 0.9385201, 'average_loss': 0.32644716, 'label/mean': 0.5005, 'loss': 41.674107, 'precision': 0.89640343, 'prediction/mean': 0.4567985, 'recall': 0.8050616, 'global_step': 600}\n",
      "Eval Metrics (Validation): {'accuracy': 0.8486, 'accuracy_baseline': 0.505, 'auc': 0.93151593, 'auc_precision_recall': 0.9270126, 'average_loss': 0.34038442, 'label/mean': 0.495, 'loss': 42.548054, 'precision': 0.8738033, 'prediction/mean': 0.4606377, 'recall': 0.81131315, 'global_step': 600}\n",
      "\n",
      "----------------------------------------------------------------------------------------------------\n",
      "Training for step = 600\n",
      "Train Time (s): 64.52502989768982\n",
      "Eval Metrics (Train): {'accuracy': 0.8649667, 'accuracy_baseline': 0.5005, 'auc': 0.940578, 'auc_precision_recall': 0.9403961, 'average_loss': 0.31191397, 'label/mean': 0.5005, 'loss': 39.818806, 'precision': 0.8656129, 'prediction/mean': 0.50203615, 'recall': 0.8644023, 'global_step': 700}\n",
      "Eval Metrics (Validation): {'accuracy': 0.8586, 'accuracy_baseline': 0.505, 'auc': 0.9329265, 'auc_precision_recall': 0.9288388, 'average_loss': 0.33104837, 'label/mean': 0.495, 'loss': 41.381046, 'precision': 0.85107225, 'prediction/mean': 0.5065411, 'recall': 0.8658586, 'global_step': 700}\n",
      "\n",
      "----------------------------------------------------------------------------------------------------\n",
      "Training for step = 700\n",
      "Train Time (s): 66.17996144294739\n",
      "Eval Metrics (Train): {'accuracy': 0.8658, 'accuracy_baseline': 0.5005, 'auc': 0.94175607, 'auc_precision_recall': 0.94169116, 'average_loss': 0.31003782, 'label/mean': 0.5005, 'loss': 39.579296, 'precision': 0.8777587, 'prediction/mean': 0.4869187, 'recall': 0.850283, 'global_step': 800}\n",
      "Eval Metrics (Validation): {'accuracy': 0.8586, 'accuracy_baseline': 0.505, 'auc': 0.9335568, 'auc_precision_recall': 0.92976797, 'average_loss': 0.32898146, 'label/mean': 0.495, 'loss': 41.122684, 'precision': 0.85964197, 'prediction/mean': 0.49122363, 'recall': 0.85373735, 'global_step': 800}\n",
      "\n",
      "----------------------------------------------------------------------------------------------------\n",
      "Training for step = 800\n",
      "Train Time (s): 68.45753812789917\n",
      "Eval Metrics (Train): {'accuracy': 0.8685333, 'accuracy_baseline': 0.5005, 'auc': 0.9431536, 'auc_precision_recall': 0.94289017, 'average_loss': 0.3051671, 'label/mean': 0.5005, 'loss': 38.957504, 'precision': 0.8712858, 'prediction/mean': 0.4997038, 'recall': 0.8651349, 'global_step': 900}\n",
      "Eval Metrics (Validation): {'accuracy': 0.8576, 'accuracy_baseline': 0.505, 'auc': 0.9343408, 'auc_precision_recall': 0.93028694, 'average_loss': 0.32732016, 'label/mean': 0.495, 'loss': 40.91502, 'precision': 0.85021853, 'prediction/mean': 0.50414026, 'recall': 0.8646465, 'global_step': 900}\n",
      "\n",
      "----------------------------------------------------------------------------------------------------\n",
      "Training for step = 900\n",
      "Train Time (s): 75.42168879508972\n",
      "Eval Metrics (Train): {'accuracy': 0.8693, 'accuracy_baseline': 0.5005, 'auc': 0.9445455, 'auc_precision_recall': 0.94426316, 'average_loss': 0.30220255, 'label/mean': 0.5005, 'loss': 38.57905, 'precision': 0.8625964, 'prediction/mean': 0.51166165, 'recall': 0.87885445, 'global_step': 1000}\n",
      "Eval Metrics (Validation): {'accuracy': 0.8604, 'accuracy_baseline': 0.505, 'auc': 0.9350613, 'auc_precision_recall': 0.930835, 'average_loss': 0.3272193, 'label/mean': 0.495, 'loss': 40.902412, 'precision': 0.84478074, 'prediction/mean': 0.5155929, 'recall': 0.87959594, 'global_step': 1000}\n",
      "\n",
      "----------------------------------------------------------------------------------------------------\n",
      "Training for step = 1000\n",
      "Train Time (s): 77.67080426216125\n",
      "Eval Metrics (Train): {'accuracy': 0.8711, 'accuracy_baseline': 0.5005, 'auc': 0.94591534, 'auc_precision_recall': 0.9457047, 'average_loss': 0.30076277, 'label/mean': 0.5005, 'loss': 38.395245, 'precision': 0.85575694, 'prediction/mean': 0.5235093, 'recall': 0.8929737, 'global_step': 1100}\n",
      "Eval Metrics (Validation): {'accuracy': 0.862, 'accuracy_baseline': 0.505, 'auc': 0.93548906, 'auc_precision_recall': 0.9313262, 'average_loss': 0.3290811, 'label/mean': 0.495, 'loss': 41.135136, 'precision': 0.8381963, 'prediction/mean': 0.527271, 'recall': 0.8937374, 'global_step': 1100}\n",
      "\n",
      "----------------------------------------------------------------------------------------------------\n",
      "Training for step = 1100\n"
     ]
    },
    {
     "name": "stdout",
     "output_type": "stream",
     "text": [
      "Train Time (s): 75.81440901756287\n",
      "Eval Metrics (Train): {'accuracy': 0.8743, 'accuracy_baseline': 0.5005, 'auc': 0.9472184, 'auc_precision_recall': 0.94698703, 'average_loss': 0.2947125, 'label/mean': 0.5005, 'loss': 37.62287, 'precision': 0.8795059, 'prediction/mean': 0.49637312, 'recall': 0.8677323, 'global_step': 1200}\n",
      "Eval Metrics (Validation): {'accuracy': 0.8644, 'accuracy_baseline': 0.505, 'auc': 0.9363339, 'auc_precision_recall': 0.93205655, 'average_loss': 0.32207146, 'label/mean': 0.495, 'loss': 40.258934, 'precision': 0.8572565, 'prediction/mean': 0.500128, 'recall': 0.8711111, 'global_step': 1200}\n",
      "\n",
      "----------------------------------------------------------------------------------------------------\n",
      "Training for step = 1200\n",
      "Train Time (s): 80.44356346130371\n",
      "Eval Metrics (Train): {'accuracy': 0.8748, 'accuracy_baseline': 0.5005, 'auc': 0.9481356, 'auc_precision_recall': 0.9477086, 'average_loss': 0.2924935, 'label/mean': 0.5005, 'loss': 37.339596, 'precision': 0.88127327, 'prediction/mean': 0.49573627, 'recall': 0.8666001, 'global_step': 1300}\n",
      "Eval Metrics (Validation): {'accuracy': 0.861, 'accuracy_baseline': 0.505, 'auc': 0.93632394, 'auc_precision_recall': 0.93210876, 'average_loss': 0.32227585, 'label/mean': 0.495, 'loss': 40.28448, 'precision': 0.85628504, 'prediction/mean': 0.49900523, 'recall': 0.86424243, 'global_step': 1300}\n",
      "\n",
      "----------------------------------------------------------------------------------------------------\n",
      "Training for step = 1300\n",
      "Train Time (s): 79.2285966873169\n",
      "Eval Metrics (Train): {'accuracy': 0.8766, 'accuracy_baseline': 0.5005, 'auc': 0.94934505, 'auc_precision_recall': 0.949189, 'average_loss': 0.2904675, 'label/mean': 0.5005, 'loss': 37.08096, 'precision': 0.8647237, 'prediction/mean': 0.5193998, 'recall': 0.8931735, 'global_step': 1400}\n",
      "Eval Metrics (Validation): {'accuracy': 0.8652, 'accuracy_baseline': 0.505, 'auc': 0.9375295, 'auc_precision_recall': 0.9337809, 'average_loss': 0.32342947, 'label/mean': 0.495, 'loss': 40.428684, 'precision': 0.8440963, 'prediction/mean': 0.52291155, 'recall': 0.89252526, 'global_step': 1400}\n",
      "\n",
      "----------------------------------------------------------------------------------------------------\n",
      "Training for step = 1400\n",
      "Train Time (s): 86.6874885559082\n",
      "Eval Metrics (Train): {'accuracy': 0.8785667, 'accuracy_baseline': 0.5005, 'auc': 0.9503807, 'auc_precision_recall': 0.9501728, 'average_loss': 0.286293, 'label/mean': 0.5005, 'loss': 36.548042, 'precision': 0.8711973, 'prediction/mean': 0.51227957, 'recall': 0.8887779, 'global_step': 1500}\n",
      "Eval Metrics (Validation): {'accuracy': 0.865, 'accuracy_baseline': 0.505, 'auc': 0.9377109, 'auc_precision_recall': 0.93403846, 'average_loss': 0.32126158, 'label/mean': 0.495, 'loss': 40.1577, 'precision': 0.8488372, 'prediction/mean': 0.5160505, 'recall': 0.8848485, 'global_step': 1500}\n",
      "\n",
      "----------------------------------------------------------------------------------------------------\n",
      "Training for step = 1500\n",
      "Train Time (s): 71.4479193687439\n",
      "Eval Metrics (Train): {'accuracy': 0.8809, 'accuracy_baseline': 0.5005, 'auc': 0.95145464, 'auc_precision_recall': 0.9510766, 'average_loss': 0.2832864, 'label/mean': 0.5005, 'loss': 36.16422, 'precision': 0.8770762, 'prediction/mean': 0.5076773, 'recall': 0.8862471, 'global_step': 1600}\n",
      "Eval Metrics (Validation): {'accuracy': 0.8648, 'accuracy_baseline': 0.505, 'auc': 0.93736726, 'auc_precision_recall': 0.9333018, 'average_loss': 0.32086164, 'label/mean': 0.495, 'loss': 40.107704, 'precision': 0.8537161, 'prediction/mean': 0.5107994, 'recall': 0.8771717, 'global_step': 1600}\n"
     ]
    }
   ],
   "source": [
    "tf.compat.v1.logging.set_verbosity(tf.compat.v1.logging.ERROR)\n",
    "import time\n",
    "\n",
    "TOTAL_STEPS = 1500\n",
    "STEP_SIZE = 100\n",
    "for step in range(0, TOTAL_STEPS+1, STEP_SIZE):\n",
    "    print()\n",
    "    print('-'*100)\n",
    "    print('Training for step =', step)\n",
    "    start_time = time.time()\n",
    "    dnn.train(input_fn=train_input_fn, steps=STEP_SIZE)\n",
    "    elapsed_time = time.time() - start_time\n",
    "    print('Train Time (s):', elapsed_time)\n",
    "    print('Eval Metrics (Train):', dnn.evaluate(input_fn=predict_train_input_fn))\n",
    "    print('Eval Metrics (Validation):', dnn.evaluate(input_fn=predict_val_input_fn))"
   ]
  },
  {
   "cell_type": "markdown",
   "metadata": {},
   "source": [
    "## Model Evaluation"
   ]
  },
  {
   "cell_type": "code",
   "execution_count": 28,
   "metadata": {},
   "outputs": [
    {
     "data": {
      "text/plain": [
       "{'accuracy': 0.8654,\n",
       " 'accuracy_baseline': 0.5006667,\n",
       " 'auc': 0.94101447,\n",
       " 'auc_precision_recall': 0.9400102,\n",
       " 'average_loss': 0.31127566,\n",
       " 'label/mean': 0.5006667,\n",
       " 'loss': 39.56894,\n",
       " 'precision': 0.8623466,\n",
       " 'prediction/mean': 0.50930303,\n",
       " 'recall': 0.87003994,\n",
       " 'global_step': 1600}"
      ]
     },
     "execution_count": 28,
     "metadata": {},
     "output_type": "execute_result"
    }
   ],
   "source": [
    "dnn.evaluate(input_fn=predict_train_input_fn)\n",
    "dnn.evaluate(input_fn=predict_test_input_fn)"
   ]
  },
  {
   "cell_type": "markdown",
   "metadata": {},
   "source": [
    "### I skipped the code on pages 662-654 for a couple of reasons:\n",
    "\n",
    "1. The extra models show different versions of what you've already seen.\n",
    "2. Two of the models overfit (\"1.000\" on training data is a clue here).\n",
    "3. They'd take a very long time to run for marginal benefit"
   ]
  },
  {
   "cell_type": "code",
   "execution_count": 29,
   "metadata": {},
   "outputs": [
    {
     "data": {
      "text/plain": [
       "[0, 1, 0, 1, 1, 0, 1, 1, 1, 1]"
      ]
     },
     "execution_count": 29,
     "metadata": {},
     "output_type": "execute_result"
    }
   ],
   "source": [
    "# picking up on page 657 at the bottom, except I already created the dnn object (no need to do it again)\n",
    "def get_predictions(estimator, input_fn):\n",
    "    return [x[\"class_ids\"][0] for x in estimator.predict(input_fn=input_fn)]\n",
    "\n",
    "predictions = get_predictions(estimator=dnn, input_fn=predict_test_input_fn)\n",
    "predictions[:10]"
   ]
  },
  {
   "cell_type": "markdown",
   "metadata": {},
   "source": [
    "### Note the use of TensorFlow compatibility model again"
   ]
  },
  {
   "cell_type": "code",
   "execution_count": 31,
   "metadata": {},
   "outputs": [
    {
     "data": {
      "image/png": "[encoded data removed]",
      "text/plain": [
       "<Figure size 432x288 with 2 Axes>"
      ]
     },
     "metadata": {
      "needs_background": "light"
     },
     "output_type": "display_data"
    }
   ],
   "source": [
    "import seaborn as sns\n",
    "import matplotlib.pyplot as plt\n",
    "\n",
    "%matplotlib inline\n",
    "\n",
    "with tf.compat.v1.Session() as session:\n",
    "    cm = tf.compat.v1.confusion_matrix(test_sentiments, predictions).eval()\n",
    "\n",
    "LABELS = ['negative', 'positive']\n",
    "sns.heatmap(cm, annot=True, xticklabels=LABELS, yticklabels=LABELS, fmt='g')\n",
    "xl = plt.xlabel(\"Predicted\")\n",
    "yl = plt.ylabel(\"Actuals\")"
   ]
  },
  {
   "cell_type": "code",
   "execution_count": 32,
   "metadata": {},
   "outputs": [
    {
     "name": "stdout",
     "output_type": "stream",
     "text": [
      "              precision    recall  f1-score   support\n",
      "\n",
      "    negative       0.87      0.86      0.86      7490\n",
      "    positive       0.86      0.87      0.87      7510\n",
      "\n",
      "   micro avg       0.87      0.87      0.87     15000\n",
      "   macro avg       0.87      0.87      0.87     15000\n",
      "weighted avg       0.87      0.87      0.87     15000\n",
      "\n"
     ]
    }
   ],
   "source": [
    "from sklearn.metrics import classification_report\n",
    "\n",
    "print(classification_report(y_true=test_sentiments, y_pred=predictions, target_names=LABELS))"
   ]
  }
 ],
 "metadata": {
  "kernelspec": {
   "display_name": "Python 3",
   "language": "python",
   "name": "python3"
  },
  "language_info": {
   "codemirror_mode": {
    "name": "ipython",
    "version": 3
   },
   "file_extension": ".py",
   "mimetype": "text/x-python",
   "name": "python",
   "nbconvert_exporter": "python",
   "pygments_lexer": "ipython3",
   "version": "3.7.3"
  }
 },
 "nbformat": 4,
 "nbformat_minor": 2
}
