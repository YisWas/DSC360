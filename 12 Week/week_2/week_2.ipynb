{
 "metadata": {
  "language_info": {
   "codemirror_mode": {
    "name": "ipython",
    "version": 3
   },
   "file_extension": ".py",
   "mimetype": "text/x-python",
   "name": "python",
   "nbconvert_exporter": "python",
   "pygments_lexer": "ipython3",
   "version": "3.7.3-final"
  },
  "orig_nbformat": 2,
  "kernelspec": {
   "name": "python3",
   "display_name": "Python 3"
  }
 },
 "nbformat": 4,
 "nbformat_minor": 2,
 "cells": [
  {
   "source": [
    "# Week Two - Working with Text\n",
    "## Representing Strings - Starting on Page 91\n",
    "\n",
    "The code in the book works as-is. It's contained here for completeness."
   ],
   "cell_type": "markdown",
   "metadata": {}
  },
  {
   "cell_type": "code",
   "execution_count": 1,
   "metadata": {},
   "outputs": [
    {
     "output_type": "stream",
     "name": "stdout",
     "text": [
      "ID: 3149249355824\nType: <class 'str'>\nValue: This is a String\n"
     ]
    }
   ],
   "source": [
    "new_string = 'This is a String' # storing a string\n",
    "print('ID:', id(new_string)) # shows the object identifier (address)\n",
    "print('Type:', type(new_string)) # shows the object type\n",
    "print('Value:', new_string) # shows the object value"
   ]
  },
  {
   "source": [
    "## String Concatenation"
   ],
   "cell_type": "markdown",
   "metadata": {}
  },
  {
   "cell_type": "code",
   "execution_count": 2,
   "metadata": {},
   "outputs": [
    {
     "output_type": "stream",
     "name": "stdout",
     "text": [
      "hello I'm a simple string\n"
     ]
    }
   ],
   "source": [
    "# simple string\n",
    "simple_string = 'hello' + \" I'm a simple string\"\n",
    "print(simple_string)"
   ]
  },
  {
   "source": [
    "## Multi-line string, note the \\n (newline) escape character automatically created"
   ],
   "cell_type": "markdown",
   "metadata": {}
  },
  {
   "cell_type": "code",
   "execution_count": null,
   "metadata": {},
   "outputs": [],
   "source": [
    "multi_line_string = \"\"\"Hello I'm\n",
    "a multi-line\n",
    "string!\"\"\"\n",
    "print(multi_line_string)"
   ]
  },
  {
   "source": [
    "## Normal string with escape sequences leading to a wrong file path!"
   ],
   "cell_type": "markdown",
   "metadata": {}
  },
  {
   "cell_type": "code",
   "execution_count": 3,
   "metadata": {},
   "outputs": [
    {
     "output_type": "stream",
     "name": "stdout",
     "text": [
      "C:\the_folder\new_dir\file.txt\n"
     ]
    }
   ],
   "source": [
    "escaped_string = \"C:\\the_folder\\new_dir\\file.txt\"\n",
    "print(escaped_string)  # will cause errors if we try to open a file here"
   ]
  },
  {
   "source": [
    "## Raw string keeping the backslashes in its normal form"
   ],
   "cell_type": "markdown",
   "metadata": {}
  },
  {
   "cell_type": "code",
   "execution_count": 4,
   "metadata": {},
   "outputs": [
    {
     "output_type": "stream",
     "name": "stdout",
     "text": [
      "C:\\the_folder\\new_dir\\file.txt\n"
     ]
    }
   ],
   "source": [
    "raw_string = r'C:\\the_folder\\new_dir\\file.txt'\n",
    "print(raw_string)"
   ]
  },
  {
   "source": [
    "## Unicode string literals"
   ],
   "cell_type": "markdown",
   "metadata": {}
  },
  {
   "cell_type": "code",
   "execution_count": 5,
   "metadata": {},
   "outputs": [
    {
     "output_type": "stream",
     "name": "stdout",
     "text": [
      "Hèllo!\n"
     ]
    }
   ],
   "source": [
    "string_with_unicode = u'H\\u00e8llo!'\n",
    "print(string_with_unicode)"
   ]
  },
  {
   "source": [
    "## Working with unicode characters"
   ],
   "cell_type": "markdown",
   "metadata": {}
  },
  {
   "cell_type": "code",
   "execution_count": 6,
   "metadata": {},
   "outputs": [
    {
     "output_type": "stream",
     "name": "stdout",
     "text": [
      "I love Pizza 🍕! Shall we book a cab 🚕 to get pizza?\nHèllo!\nI love Pizza 🍕! Shall we book a cab 🚕 to get pizza?\n?azzip teg ot 🚕 bac a koob ew llahS !🍕 azziP evol I\n"
     ]
    }
   ],
   "source": [
    "more_unicode = u'I love Pizza \\U0001F355! Shall we book a cab \\U0001F695 to get pizza?'\n",
    "print(more_unicode)\n",
    "print(string_with_unicode + '\\n' + more_unicode)\n",
    "' '.join([string_with_unicode, more_unicode])\n",
    "print(more_unicode[::-1]) # reverses the string"
   ]
  },
  {
   "source": [
    "## String operations"
   ],
   "cell_type": "markdown",
   "metadata": {}
  },
  {
   "cell_type": "code",
   "execution_count": 7,
   "metadata": {},
   "outputs": [
    {
     "output_type": "stream",
     "name": "stdout",
     "text": [
      "Hello ☺ and welcome to Python 🐍!\nHello and welcome to Python!\nHello Python 💻!\nHello ☺ Python 💻!\n--🐍Python🐍----🐍Python🐍----🐍Python🐍----🐍Python🐍----🐍Python🐍--\nPython 💻!--🐍Python🐍--\nPython 💻!--🐍Python🐍--Python 💻!--🐍Python🐍--Python 💻!--🐍Python🐍--\nPython!--Python--Python!--Python--Python!--Python--\nThis is another way to concatenate several strings!\nTrue\nFalse\n51\n"
     ]
    }
   ],
   "source": [
    "# Different ways of String concatenation\n",
    "print(u'Hello \\u263A' + ' and welcome ' + u'to Python \\U0001F40D!')\n",
    "print('Hello' ' and welcome ' 'to Python!')\n",
    "\n",
    "# concatenation of variables and literals\n",
    "s1 = u'Python \\U0001F4BB!'\n",
    "print('Hello ' + s1)\n",
    "print(u'Hello \\u263a ' + s1)\n",
    "\n",
    "# we cannot concatenate a variable and a literal using this method\n",
    "#print(u'Hello \\u263a ' s1)\n",
    "\n",
    "# some more ways of concatenating strings\n",
    "s2 = u'--\\U0001F40DPython\\U0001F40D--'\n",
    "print(s2 * 5)\n",
    "print(s1 + s2)\n",
    "print((s1 + s2)*3)\n",
    "print('Python!--Python--Python!--Python--Python!--Python--')\n",
    "\n",
    "# concatenating several strings together in parentheses\n",
    "s3 = ('This '\n",
    "      'is another way '\n",
    "      'to concatenate '\n",
    "      'several strings!')\n",
    "print(s3)\n",
    "\n",
    "# checking for substrings in a string\n",
    "print('way' in s3)\n",
    "print('python' in s3)\n",
    "\n",
    "# computing total length of the string\n",
    "print(len(s3))"
   ]
  },
  {
   "source": [
    "## String indexing and slicing"
   ],
   "cell_type": "markdown",
   "metadata": {}
  },
  {
   "cell_type": "code",
   "execution_count": 8,
   "metadata": {},
   "outputs": [
    {
     "output_type": "stream",
     "name": "stdout",
     "text": [
      "PYTHON <class 'str'>\nCharacter P: has index: 0\nCharacter Y: has index: 1\nCharacter T: has index: 2\nCharacter H: has index: 3\nCharacter O: has index: 4\nCharacter N: has index: 5\nP Y T H O N\nN O H T Y P\nPYTHON\nYTH\nPYT\nHON\nHON\nPYTHON\nPYTHON\nPYTHON\nPTO\nOriginal String id: 3149250878240\nXYTHON\nNew String id: 3149250945856\n"
     ]
    }
   ],
   "source": [
    "# creating a string\n",
    "s = 'PYTHON'\n",
    "print(s, type(s))\n",
    "\n",
    "# depicting string indexes\n",
    "for index, character in enumerate(s):\n",
    "    print('Character', character+':', 'has index:', index)\n",
    "\n",
    "# string indexing\n",
    "print(s[0], s[1], s[2], s[3], s[4], s[5])\n",
    "print(s[-1], s[-2], s[-3], s[-4], s[-5], s[-6])\n",
    "\n",
    "# string slicing\n",
    "print(s[:])\n",
    "print(s[1:4])\n",
    "print(s[:3])\n",
    "print(s[3:])\n",
    "print(s[-3:])\n",
    "print(s[:3] + s[3:])\n",
    "print(s[:3] + s[-3:])\n",
    "\n",
    "# string slicing with offsets\n",
    "print(s[::1])  # no offset\n",
    "print(s[::2])  # print every 2nd character in string\n",
    "\n",
    "# strings are immutable hence assignment throws error\n",
    "#s[0] = 'X'\n",
    "\n",
    "# creates a new string\n",
    "print('Original String id:', id(s))\n",
    "# creates a new string\n",
    "s = 'X' + s[1:]\n",
    "print(s)\n",
    "print('New String id:', id(s))"
   ]
  },
  {
   "source": [
    "## String methods"
   ],
   "cell_type": "markdown",
   "metadata": {}
  },
  {
   "cell_type": "code",
   "execution_count": 9,
   "metadata": {},
   "outputs": [
    {
     "output_type": "stream",
     "name": "stdout",
     "text": [
      "Python is great\nPYTHON IS GREAT\nPython Is Great\nNLP is great\nTrue\nFalse\nTrue\nFalse\nTrue\nTrue\nFalse\n['I', 'am', 'a', 'comma', 'separated', 'string']\nI am a comma separated string\n   I am surrounded by spaces    \nI am surrounded by spaces\n['Python is great', ' NLP is also good', '']\nPython is great\n NLP is also good\n\nPython is great\nNLP is also good\n"
     ]
    }
   ],
   "source": [
    "# case conversions\n",
    "s = 'python is great'\n",
    "print(s.capitalize())\n",
    "print(s.upper())\n",
    "# converting to title case\n",
    "print(s.title())\n",
    "\n",
    "# string replace\n",
    "print(s.replace('python', 'NLP'))\n",
    "\n",
    "# Numeric checks\n",
    "print('12345'.isdecimal())\n",
    "print('apollo11'.isdecimal())\n",
    "print('python'.isalpha())\n",
    "print('number1'.isalpha())\n",
    "print('total'.isalnum())\n",
    "print('abc123'.isalnum())\n",
    "print('1+1'.isalnum())\n",
    "\n",
    "# string splitting and joining\n",
    "s = 'I,am,a,comma,separated,string'\n",
    "print(s.split(','))\n",
    "print(' '.join(s.split(',')))\n",
    "\n",
    "# stripping whitespace characters\n",
    "s = '   I am surrounded by spaces    '\n",
    "print(s)\n",
    "print(s.strip())\n",
    "\n",
    "# some more combinations\n",
    "sentences = 'Python is great. NLP is also good.'\n",
    "print(sentences.split('.'))\n",
    "print('\\n'.join(sentences.split('.')))\n",
    "print('\\n'.join([sentence.strip() for sentence in sentences.split('.') if sentence]))\n"
   ]
  },
  {
   "source": [
    "## String formatting"
   ],
   "cell_type": "markdown",
   "metadata": {}
  },
  {
   "cell_type": "code",
   "execution_count": 10,
   "metadata": {},
   "outputs": [
    {
     "output_type": "stream",
     "name": "stdout",
     "text": [
      "Hello Python!\nHello World! How are you?\nWe have 2 bottles containing 2.50 gallons of milk\nWe have 5 jugs containing 10.87 gallons of juice\nHello Mr. Jones, it is a great pleasure to meet you at 5\nHello Sir Arthur, it is a great honor to meet you at 9 o'clock\nI have a sandwich and a soda with me\nThe dog has the following attributes: ['lazy', 'loyal']\n"
     ]
    }
   ],
   "source": [
    "# simple string formatting expressions\n",
    "print('Hello %s' %('Python!'))\n",
    "print('Hello %s %s' %('World!', 'How are you?'))\n",
    "\n",
    "# formatting expressions with different data types\n",
    "print('We have %d %s containing %.2f gallons of %s' %(2, 'bottles', 2.5, 'milk'))\n",
    "print('We have %d %s containing %.2f gallons of %s' %(5, 'jugs', 10.867, 'juice'))\n",
    "\n",
    "# formatting using the format method\n",
    "print('Hello {} {}, it is a great {} to meet you at {}'.format('Mr.', 'Jones', 'pleasure', 5))\n",
    "print('Hello {} {}, it is a great {} to meet you at {} o\\'clock'.format('Sir', 'Arthur', 'honor', 9))\n",
    "\n",
    "# alternative ways of using format\n",
    "print('I have a {food_item} and a {drink_item} with me'.format(drink_item='soda', food_item='sandwich'))\n",
    "print('The {animal} has the following attributes: {attributes}'.format(animal='dog', attributes=['lazy', 'loyal']))"
   ]
  },
  {
   "source": [
    "## Using regular expressions"
   ],
   "cell_type": "markdown",
   "metadata": {}
  },
  {
   "cell_type": "code",
   "execution_count": 11,
   "metadata": {},
   "outputs": [
    {
     "output_type": "stream",
     "name": "stdout",
     "text": [
      "Hèllo\n['Hèllo']\n['Hèllo']\nNone\n<re.Match object; span=(0, 6), match='Python'>\nFound match Python ranging from index 0 - 6 in the string \"Python is an excellent language\"\nNone\n<re.Match object; span=(11, 17), match='Python'>\n['Python', 'Python']\nString: I love the Python language. I also use Python to build applications at work!\nFound match \"Python\" ranging from index 11 - 17\nFound match \"Python\" ranging from index 39 - 45\nI love the Java language. I also use Java to build applications at work!\n('I love the Java language. I also use Java to build applications at work!', 2)\nHèllo! this is Python 🐍\n['Hèllo', 'this', 'is', 'Python']\n['Hèllo', 'Python']\n['🐍']\n"
     ]
    }
   ],
   "source": [
    "# importing the re module\n",
    "import re\n",
    "# dealing with unicode matching using regexes\n",
    "s = u'H\\u00e8llo'\n",
    "print(s)\n",
    "\n",
    "# does not return the special unicode character even if it is alphanumeric\n",
    "print(re.findall(r'\\w+', s))\n",
    "\n",
    "# need to explicitely specify the unicode flag to detect it using regex\n",
    "print(re.findall(r'\\w+', s, re.UNICODE))\n",
    "\n",
    "# setting up a pattern we want to use as a regex\n",
    "# also creating two sample strings\n",
    "pattern = 'python'\n",
    "s1 = 'Python is an excellent language'\n",
    "s2 = 'I love the Python language. I also use Python to build applications at work!'\n",
    "\n",
    "# match only returns a match if regex match is found at the beginning of the string\n",
    "print(re.match(pattern, s1))\n",
    "# pattern is in lower case hence ignore case flag helps\n",
    "# in matching same pattern with different cases\n",
    "print(re.match(pattern, s1, flags=re.IGNORECASE))\n",
    "\n",
    "# printing matched string and its indices in the original string\n",
    "m = re.match(pattern, s1, flags=re.IGNORECASE)\n",
    "print('Found match {} ranging from index {} - {} in the string \"{}\"'.format(m.group(0), m.start(), m.end(), s1))\n",
    "\n",
    "# match does not work when pattern is not there in the beginning of string s2\n",
    "print(re.match(pattern, s2, re.IGNORECASE))\n",
    "\n",
    "# illustrating find and search methods using the re module\n",
    "print(re.search(pattern, s2, re.IGNORECASE))\n",
    "print(re.findall(pattern, s2, re.IGNORECASE))\n",
    "\n",
    "match_objs = re.finditer(pattern, s2, re.IGNORECASE)\n",
    "print(\"String:\", s2)\n",
    "for m in match_objs:\n",
    "    print('Found match \"{}\" ranging from index {} - {}'.format(m.group(0), m.start(), m.end()))\n",
    "\n",
    "# illustrating pattern substitution using sub and subn methods\n",
    "print(re.sub(pattern, 'Java', s2, flags=re.IGNORECASE))\n",
    "print(re.subn(pattern, 'Java', s2, flags=re.IGNORECASE))\n",
    "\n",
    "# dealing with unicode matching using regexes\n",
    "s = u'H\\u00e8llo! this is Python \\U0001F40D'\n",
    "print(s)\n",
    "print(re.findall(r'\\w+', s))\n",
    "print(re.findall(r\"[A-Z]\\w+\", s, re.UNICODE))\n",
    "\n",
    "emoji_pattern = r\"['\\U0001F300-\\U0001F5FF'|'\\U0001F600-\\U0001F64F'|'\\U0001F680-\\U0001F6FF'|'\\u2600-\\u26FF\\u2700-\\u27BF']\"\n",
    "print(re.findall(emoji_pattern, s, re.UNICODE))"
   ]
  },
  {
   "source": [
    "# Putting it all Together\n",
    "## Starting on page 106\n",
    "\n",
    "The graphs at the end look different fromt he book because the text from NLTK has changed since the book was published and the API also changed."
   ],
   "cell_type": "markdown",
   "metadata": {}
  },
  {
   "cell_type": "code",
   "execution_count": 13,
   "metadata": {},
   "outputs": [
    {
     "output_type": "stream",
     "name": "stdout",
     "text": [
      "First 5 sentences, tokenized:\n",
      " [['[', 'The', 'King', 'James', 'Bible', ']'], ['The', 'Old', 'Testament', 'of', 'the', 'King', 'James', 'Bible'], ['The', 'First', 'Book', 'of', 'Moses', ':', 'Called', 'Genesis'], ['1', ':', '1', 'In', 'the', 'beginning', 'God', 'created', 'the', 'heaven', 'and', 'the', 'earth', '.'], ['1', ':', '2', 'And', 'the', 'earth', 'was', 'without', 'form', ',', 'and', 'void', ';', 'and', 'darkness', 'was', 'upon', 'the', 'face', 'of', 'the', 'deep', '.']] \n",
      "\n",
      "Length:\n",
      " 30103 \n",
      "\n"
     ]
    },
    {
     "output_type": "display_data",
     "data": {
      "text/plain": "<Figure size 432x288 with 1 Axes>",
      "image/png": "[encoded data removed]"
     },
     "metadata": {
      "needs_background": "light"
     }
    },
    {
     "output_type": "display_data",
     "data": {
      "text/plain": "<Figure size 432x288 with 1 Axes>",
      "image/png": "[encoded data removed]"
     },
     "metadata": {
      "needs_background": "light"
     }
    },
    {
     "output_type": "stream",
     "name": "stdout",
     "text": [
      "First 20 words\n",
      " ['[', 'The', 'King', 'James', 'Bible', ']', 'The', 'Old', 'Testament', 'of', 'the', 'King', 'James', 'Bible', 'The', 'First', 'Book', 'of', 'Moses', ':']\n",
      "Cleaned words\n",
      " ['The', 'King', 'James', 'Bible', 'The', 'Old', 'Testament', 'of', 'the', 'King', 'James', 'Bible', 'The', 'First', 'Book', 'of', 'Moses', 'Called', 'Genesis', 'In'] \n",
      "\n",
      "Most common words:\n",
      " [('the', 64023), ('and', 51696), ('of', 34670), ('to', 13580), ('that', 12912), ('in', 12667), ('he', 10419), ('shall', 9838), ('unto', 8997), ('for', 8971)] \n",
      "\n",
      "Most common words, no stop words\n",
      " [('shall', 9838), ('unto', 8997), ('lord', 7964), ('thou', 5474), ('thy', 4600), ('god', 4472), ('said', 3999), ('ye', 3983), ('thee', 3827), ('upon', 2748)]\n"
     ]
    }
   ],
   "source": [
    "%matplotlib inline\n",
    "\n",
    "import nltk\n",
    "import matplotlib.pyplot as plt\n",
    "import re\n",
    "\n",
    "bible = nltk.corpus.gutenberg.sents('bible-kjv.txt')\n",
    "print('First 5 sentences, tokenized:\\n', bible[:5], '\\n')\n",
    "\n",
    "print('Length:\\n', len(bible), '\\n')\n",
    "# no need to strip new lines, this is already done!\n",
    "\n",
    "# the histogram is different because of how the corpus is structured now\n",
    "line_lengths = [len(sent) for sent in bible]\n",
    "h = plt.hist(line_lengths)\n",
    "plt.show()\n",
    "\n",
    "# no need to tokenize, this is also already done!\n",
    "\n",
    "# page 108, bottom same plot as before\n",
    "total_tokens_per_line = [len(sent) for sent in bible]\n",
    "h = plt.hist(total_tokens_per_line, color='orange')\n",
    "plt.show()\n",
    "\n",
    "# page 109\n",
    "words = nltk.corpus.gutenberg.words('bible-kjv.txt')\n",
    "print('First 20 words\\n', words[:20])\n",
    "words = list(filter(None, [re.sub(r'[^A-Za-z]', '', word) for word in words]))\n",
    "print('Cleaned words\\n', words[:20], '\\n')\n",
    "\n",
    "# page 110\n",
    "from collections import Counter\n",
    "words = [word.lower() for word in words]\n",
    "c = Counter(words)\n",
    "print('Most common words:\\n', c.most_common(10), '\\n')\n",
    "\n",
    "stopwords = nltk.corpus.stopwords.words('english')\n",
    "words = [word.lower() for word in words if word.lower() not in stopwords]\n",
    "c = Counter(words)\n",
    "print('Most common words, no stop words\\n', c.most_common(10))"
   ]
  },
  {
   "cell_type": "code",
   "execution_count": null,
   "metadata": {},
   "outputs": [],
   "source": []
  }
 ]
}