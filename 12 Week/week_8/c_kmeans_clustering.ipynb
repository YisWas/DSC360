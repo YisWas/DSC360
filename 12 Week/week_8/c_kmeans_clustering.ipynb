{
 "cells": [
  {
   "cell_type": "markdown",
   "metadata": {},
   "source": [
    "# Chapter 7 - K-Means Clustering\n",
    "\n",
    "Switched to Jupyter Notebooks because the fit operations begin to take a longer period of time. With Jupyter, the results are retained in memory (for each code block) so you only need to run them (and wait) once. From there, it's possible to work on the results from memory.\n",
    "\n",
    "I suggest you install Jupyter into PyCharm using these instructions: https://www.jetbrains.com/help/pycharm/jupyter-notebook-support.html#get-started\n",
    "\n",
    "Doing so gives you code complete and the other IDE support of PyCharm while editing your Jupyter Notebooks.\n",
    "\n",
    "It's also very simple to do the same with Microsoft Visual Studio Code."
   ]
  },
  {
   "cell_type": "markdown",
   "metadata": {},
   "source": [
    "## Feature Engineering"
   ]
  },
  {
   "cell_type": "code",
   "execution_count": 1,
   "metadata": {
    "tags": []
   },
   "outputs": [
    {
     "output_type": "stream",
     "name": "stdout",
     "text": "<class 'pandas.core.frame.DataFrame'>\nInt64Index: 3959 entries, 0 to 4798\nData columns (total 7 columns):\nUnnamed: 0     3959 non-null int64\ntitle          3959 non-null object\ntagline        3959 non-null object\noverview       3959 non-null object\ngenres         3959 non-null object\npopularity     3959 non-null float64\ndescription    3959 non-null object\ndtypes: float64(1), int64(1), object(5)\nmemory usage: 247.4+ KB\nNone\nNorm corpus matrix shape:\n (3959, 2551) \n\n"
    }
   ],
   "source": [
    "import numpy as np\n",
    "import pandas as pd\n",
    "import nltk\n",
    "from sklearn.feature_extraction.text import CountVectorizer\n",
    "\n",
    "stop_words = nltk.corpus.stopwords.words('english')\n",
    "stop_words = stop_words + ['one', 'two', 'get']\n",
    "\n",
    "# load the corpus created in b_movie_recommender.py\n",
    "df = pd.read_csv('./data/norm_corpus.csv')\n",
    "# For some reason, a row is nan, drop it\n",
    "df.dropna(inplace=True)\n",
    "print(df.info())\n",
    "\n",
    "norm_corpus = df['description']\n",
    "\n",
    "cv = CountVectorizer(ngram_range=(1, 2), min_df=10, max_df=0.8,\n",
    "                     stop_words=stop_words)\n",
    "cv_matrix = cv.fit_transform(norm_corpus)\n",
    "print('Norm corpus matrix shape:\\n', cv_matrix.shape, '\\n')"
   ]
  },
  {
   "cell_type": "markdown",
   "metadata": {},
   "source": [
    "## K-Means Clustering"
   ]
  },
  {
   "cell_type": "code",
   "execution_count": 2,
   "metadata": {
    "tags": []
   },
   "outputs": [
    {
     "output_type": "stream",
     "name": "stdout",
     "text": "K-Means:\n KMeans(algorithm='auto', copy_x=True, init='k-means++', max_iter=10000,\n    n_clusters=6, n_init=50, n_jobs=None, precompute_distances='auto',\n    random_state=42, tol=0.0001, verbose=0) \n\n"
    }
   ],
   "source": [
    "# Kmeans clustering starting on page 502\n",
    "from sklearn.cluster import KMeans\n",
    "\n",
    "NUM_CLUSTERS=6\n",
    "km = KMeans(n_clusters=NUM_CLUSTERS, max_iter=10000, n_init=50, random_state=42).fit(cv_matrix)\n",
    "print('K-Means:\\n', km, '\\n')"
   ]
  },
  {
   "cell_type": "code",
   "execution_count": 3,
   "metadata": {
    "tags": []
   },
   "outputs": [
    {
     "output_type": "stream",
     "name": "stdout",
     "text": "Labels:\n Counter({2: 2187, 3: 524, 1: 441, 4: 419, 0: 387, 5: 1})\n"
    }
   ],
   "source": [
    "df['kmeans_cluster'] = km.labels_\n",
    "\n",
    "# viewing distribution of movies across the cluster\n",
    "from collections import Counter\n",
    "print('Labels:\\n', Counter(km.labels_))"
   ]
  },
  {
   "cell_type": "code",
   "execution_count": 4,
   "metadata": {
    "tags": []
   },
   "outputs": [
    {
     "output_type": "stream",
     "name": "stdout",
     "text": "CLUSTER #1\nKey Features: ['love', 'life', 'story', 'find', 'man', 'young', 'falls', 'true', 'woman', 'finds', 'fall', 'father', 'never', 'new', 'falls love']\nPopular Movies: ['Pirates of the Caribbean: The Curse of the Black Pearl', 'Frozen', 'Forrest Gump', 'Pirates of the Caribbean: On Stranger Tides', 'Twilight', 'Spider-Man 3', 'Bruce Almighty', 'Quantum of Solace', 'The Twilight Saga: Eclipse', 'The Twilight Saga: New Moon', 'Aladdin', 'The Age of Adaline', 'The Fault in Our Stars', 'Amélie', 'Sex Tape', 'Million Dollar Baby', 'The Hunger Games', 'Grease', 'Troy', 'Room']\n--------------------------------------------------------------------------------\nCLUSTER #2\nKey Features: ['new', 'york', 'new york', 'city', 'young', 'family', 'york city', 'years', 'friends', 'man', 'must', 'town', 'find', 'back', 'home']\nPopular Movies: ['Terminator Genisys', 'Fight Club', 'Teenage Mutant Ninja Turtles', 'Pixels', 'Despicable Me 2', 'Avengers: Age of Ultron', 'Night at the Museum: Secret of the Tomb', 'Batman Begins', 'The Dark Knight Rises', 'The Lord of the Rings: The Two Towers', 'The Godfather: Part II', 'How to Train Your Dragon 2', '12 Years a Slave', 'The Wolf of Wall Street', 'Men in Black II', \"Pan's Labyrinth\", 'The Bourne Legacy', 'The Amazing Spider-Man 2', 'The Devil Wears Prada', 'Non-Stop']\n--------------------------------------------------------------------------------\nCLUSTER #3\nKey Features: ['man', 'young', 'story', 'family', 'find', 'must', 'time', 'back', 'friends', 'way', 'hes', 'years', 'take', 'help', 'father']\nPopular Movies: ['Interstellar', 'Guardians of the Galaxy', 'Dawn of the Planet of the Apes', 'The Hunger Games: Mockingjay - Part 1', 'Big Hero 6', 'Whiplash', 'The Dark Knight', 'The Martian', \"Pirates of the Caribbean: Dead Man's Chest\", 'Gone Girl', 'X-Men: Apocalypse', 'Rise of the Planet of the Apes', 'The Lord of the Rings: The Fellowship of the Ring', \"One Flew Over the Cuckoo's Nest\", 'The Hunger Games: Mockingjay - Part 2', 'Star Wars', 'Brave', 'The Lord of the Rings: The Return of the King', 'Pulp Fiction', 'The Hobbit: The Battle of the Five Armies']\n--------------------------------------------------------------------------------\nCLUSTER #4\nKey Features: ['life', 'man', 'family', 'young', 'new', 'story', 'back', 'time', 'death', 'hes', 'finds', 'find', 'father', 'must', 'son']\nPopular Movies: ['Deadpool', 'Mad Max: Fury Road', 'Inception', 'The Godfather', \"Pirates of the Caribbean: At World's End\", 'The Shawshank Redemption', 'Harry Potter and the Chamber of Secrets', 'Inside Out', 'Maleficent', \"Harry Potter and the Philosopher's Stone\", 'The Hobbit: An Unexpected Journey', 'Titanic', 'Fifty Shades of Grey', 'Blade Runner', 'Psycho', 'The Lion King', 'Taken 3', 'The Bourne Identity', 'The Mask', 'Cars']\n--------------------------------------------------------------------------------\nCLUSTER #5\nKey Features: ['world', 'war', 'man', 'find', 'young', 'world war', 'story', 'must', 'new', 'save', 'time', 'evil', 'way', 'ii', 'family']\nPopular Movies: ['Minions', 'Jurassic World', 'Captain America: Civil War', 'Batman v Superman: Dawn of Justice', 'Avatar', 'The Imitation Game', 'The Avengers', 'Fury', 'The Maze Runner', 'Tomorrowland', 'Ant-Man', 'Spirited Away', 'Chappie', 'Monsters, Inc.', \"Schindler's List\", 'The Matrix', 'Man of Steel', 'Skyfall', 'The Adventures of Tintin', 'Nightcrawler']\n--------------------------------------------------------------------------------\nCLUSTER #6\nKey Features: ['mike', 'ring', 'wife', 'meet', 'always', 'may', 'events', 'evening', 'making', 'makes', 'angeles', 'wants', 'way', 'barely', 'introduces']\nPopular Movies: ['Redbelt']\n--------------------------------------------------------------------------------\n"
    }
   ],
   "source": [
    "movie_clusters = (df[['title', 'kmeans_cluster', 'popularity']]\n",
    "                 .sort_values(by=['kmeans_cluster', 'popularity'], ascending=False)\n",
    "                 .groupby('kmeans_cluster').head(20))\n",
    "movie_clusters = movie_clusters.copy(deep=True)\n",
    "feature_names = cv.get_feature_names()\n",
    "topn_features = 15\n",
    "ordered_centroids = km.cluster_centers_.argsort()[:, ::-1]\n",
    "\n",
    "# get key features for each cluster\n",
    "# get movies belonging to each cluster\n",
    "for cluster_num in range(NUM_CLUSTERS):\n",
    "    key_features = [feature_names[index] for index in ordered_centroids[cluster_num, :topn_features]]\n",
    "    movies = movie_clusters[movie_clusters['kmeans_cluster'] == cluster_num]['title'].values.tolist()\n",
    "    print('CLUSTER #' + str(cluster_num+1))\n",
    "    print('Key Features:', key_features)\n",
    "    print('Popular Movies:', movies)\n",
    "    print('-'*80)"
   ]
  },
  {
   "cell_type": "markdown",
   "metadata": {},
   "source": [
    "## More Movie Groupings"
   ]
  },
  {
   "cell_type": "code",
   "execution_count": 5,
   "metadata": {
    "tags": []
   },
   "outputs": [
    {
     "output_type": "stream",
     "name": "stdout",
     "text": "Labels:\n Counter({3: 2030, 2: 576, 4: 438, 5: 390, 1: 280, 0: 245})\n"
    }
   ],
   "source": [
    "from sklearn.metrics.pairwise import cosine_similarity\n",
    "\n",
    "cosine_sim_features = cosine_similarity(cv_matrix)\n",
    "km = KMeans(n_clusters=NUM_CLUSTERS, max_iter=10000, n_init=50, random_state=42).fit(cosine_sim_features)\n",
    "print('Labels:\\n', Counter(km.labels_))"
   ]
  },
  {
   "cell_type": "code",
   "execution_count": 6,
   "metadata": {
    "tags": []
   },
   "outputs": [
    {
     "output_type": "stream",
     "name": "stdout",
     "text": "CLUSTER #1\nPopular Movies: ['The Imitation Game', 'Maleficent', 'Titanic', '12 Years a Slave', 'The Prestige', 'The Grand Budapest Hotel', 'The Fault in Our Stars', 'Catch Me If You Can', 'Cloud Atlas', 'The Conjuring 2', 'Apollo 13', 'Aliens', 'The Usual Suspects', 'GoodFellas', 'Straight Outta Compton', \"The Huntsman: Winter's War\", 'Mary Poppins', 'The Lego Movie', 'Starship Troopers', 'The Big Short']\n--------------------------------------------------------------------------------\nCLUSTER #2\nPopular Movies: ['Pirates of the Caribbean: The Curse of the Black Pearl', 'Frozen', 'Forrest Gump', 'Pirates of the Caribbean: On Stranger Tides', 'Spider-Man 3', 'Quantum of Solace', 'The Twilight Saga: New Moon', 'Aladdin', 'Sex Tape', 'Grease', 'Troy', 'The Princess and the Frog', '50 First Dates', 'The Theory of Everything', 'Braveheart', 'Slumdog Millionaire', 'Cast Away', 'Moulin Rouge!', \"There's Something About Mary\", 'Need for Speed']\n--------------------------------------------------------------------------------\nCLUSTER #3\nPopular Movies: ['Deadpool', 'Mad Max: Fury Road', 'Inception', 'The Godfather', \"Pirates of the Caribbean: At World's End\", 'The Shawshank Redemption', 'Harry Potter and the Chamber of Secrets', 'Inside Out', 'Twilight', \"Harry Potter and the Philosopher's Stone\", 'Bruce Almighty', 'The Hobbit: An Unexpected Journey', 'The Twilight Saga: Eclipse', 'Fifty Shades of Grey', 'Blade Runner', 'Psycho', 'The Lion King', 'Taken 3', 'The Bourne Identity', 'The Mask']\n--------------------------------------------------------------------------------\nCLUSTER #4\nPopular Movies: ['Interstellar', 'Guardians of the Galaxy', 'Dawn of the Planet of the Apes', 'The Hunger Games: Mockingjay - Part 1', 'Big Hero 6', 'Whiplash', 'The Dark Knight', 'The Martian', \"Pirates of the Caribbean: Dead Man's Chest\", 'Gone Girl', 'X-Men: Apocalypse', 'Rise of the Planet of the Apes', 'The Lord of the Rings: The Fellowship of the Ring', \"One Flew Over the Cuckoo's Nest\", 'The Hunger Games: Mockingjay - Part 2', 'Star Wars', 'Brave', 'The Lord of the Rings: The Return of the King', 'Pulp Fiction', 'The Hobbit: The Battle of the Five Armies']\n--------------------------------------------------------------------------------\nCLUSTER #5\nPopular Movies: ['Terminator Genisys', 'Fight Club', 'Teenage Mutant Ninja Turtles', 'Pixels', 'Despicable Me 2', 'Avengers: Age of Ultron', 'Night at the Museum: Secret of the Tomb', 'Batman Begins', 'The Dark Knight Rises', 'The Lord of the Rings: The Two Towers', 'The Godfather: Part II', 'How to Train Your Dragon 2', 'The Wolf of Wall Street', 'Men in Black II', \"Pan's Labyrinth\", 'The Bourne Legacy', 'The Amazing Spider-Man 2', 'The Devil Wears Prada', 'Non-Stop', 'Horrible Bosses 2']\n--------------------------------------------------------------------------------\nCLUSTER #6\nPopular Movies: ['Minions', 'Jurassic World', 'Captain America: Civil War', 'Batman v Superman: Dawn of Justice', 'Avatar', 'The Avengers', 'Fury', 'The Maze Runner', 'Tomorrowland', 'Ant-Man', 'Spirited Away', 'Chappie', 'Monsters, Inc.', \"Schindler's List\", 'The Matrix', 'Man of Steel', 'Skyfall', 'The Adventures of Tintin', 'Nightcrawler', 'Thor']\n--------------------------------------------------------------------------------\n"
    }
   ],
   "source": [
    "df['kmeans_cluster'] = km.labels_\n",
    "\n",
    "movie_clusters = (df[['title', 'kmeans_cluster', 'popularity']]\n",
    "                 .sort_values(by=['kmeans_cluster', 'popularity'], ascending=False)\n",
    "                 .groupby('kmeans_cluster').head(20))\n",
    "\n",
    "# get movies belonging to each cluster\n",
    "for cluster_num in range(NUM_CLUSTERS):\n",
    "    movies = movie_clusters[movie_clusters['kmeans_cluster'] == cluster_num]['title'].values.tolist()\n",
    "    print('CLUSTER #' + str(cluster_num+1))\n",
    "    print('Popular Movies:', movies)\n",
    "    print('-'*80)"
   ]
  },
  {
   "cell_type": "markdown",
   "metadata": {},
   "source": [
    "## Affinity Propogation - Starting on Page 510"
   ]
  },
  {
   "cell_type": "code",
   "execution_count": 7,
   "metadata": {
    "tags": []
   },
   "outputs": [
    {
     "output_type": "stream",
     "name": "stdout",
     "text": "Affinity propogation most common:\n [(175, 1195), (161, 101), (53, 78), (25, 41), (43, 41), (180, 39), (17, 38), (111, 38), (13, 38), (154, 38)]\n"
    }
   ],
   "source": [
    "from sklearn.cluster import AffinityPropagation\n",
    "\n",
    "ap = AffinityPropagation(max_iter=1000)\n",
    "ap.fit(cosine_sim_features)\n",
    "res = Counter(ap.labels_)\n",
    "print('Affinity propogation most common:\\n', res.most_common(10))"
   ]
  },
  {
   "cell_type": "markdown",
   "metadata": {},
   "source": [
    "## Using AP on Movies"
   ]
  },
  {
   "cell_type": "code",
   "execution_count": 15,
   "metadata": {
    "tags": []
   },
   "outputs": [
    {
     "output_type": "stream",
     "name": "stdout",
     "text": "CLUSTER #175\nPopular movies: ['Interstellar', 'Pirates of the Caribbean: The Curse of the Black Pearl', 'Dawn of the Planet of the Apes', 'The Hunger Games: Mockingjay - Part 1', 'Big Hero 6', 'The Dark Knight', \"Pirates of the Caribbean: Dead Man's Chest\", 'X-Men: Apocalypse', \"One Flew Over the Cuckoo's Nest\", 'The Hunger Games: Mockingjay - Part 2', 'Brave', 'The Lord of the Rings: The Return of the King', 'The Hobbit: The Battle of the Five Armies', 'Iron Man', 'Transformers: Age of Extinction', 'Lucy', 'Mission: Impossible - Rogue Nation', 'Despicable Me', 'Maze Runner: The Scorch Trials', 'Spectre']\n--------------------------------------------------------------------------------\nCLUSTER #161\nPopular movies: ['Inception', 'Harry Potter and the Chamber of Secrets', 'The Hobbit: An Unexpected Journey', 'The Mask', 'Django Unchained', 'American Beauty', 'Gattaca', 'Snowpiercer', 'Trainspotting', 'First Blood', 'The Bourne Supremacy', 'Side Effects', 'The Aviator', 'City of God', 'Yes Man', 'The Secret Life of Walter Mitty', 'The Legend of Tarzan', 'RED', 'Casino', 'The Passion of the Christ']\n--------------------------------------------------------------------------------\nCLUSTER #53\nPopular movies: ['Fight Club', 'Despicable Me 2', 'The Lord of the Rings: The Two Towers', 'The Bourne Legacy', 'Sherlock Holmes: A Game of Shadows', \"Ocean's Twelve\", 'Raiders of the Lost Ark', 'District 9', 'Mission: Impossible III', 'Fantastic 4: Rise of the Silver Surfer', 'Sherlock Holmes', 'Dead Poets Society', 'Batman & Robin', 'Madagascar: Escape 2 Africa', 'Death Race', 'Paul Blart: Mall Cop 2', 'Kick-Ass 2', 'Anchorman 2: The Legend Continues', 'The Pacifier', 'Scream 4']\n--------------------------------------------------------------------------------\nCLUSTER #25\nPopular movies: ['Minions', 'Avatar', 'Penguins of Madagascar', 'Iron Man 3', 'London Has Fallen', 'The Great Gatsby', 'Transcendence', 'Zombieland', 'Hotel Transylvania', 'Cars 2', 'Ghost Rider: Spirit of Vengeance', 'Warm Bodies', 'Paul', 'The Road', \"You Don't Mess with the Zohan\", 'Alexander', 'This Is the End', 'The Scorpion King', \"Bridget Jones's Diary\", 'Hairspray']\n--------------------------------------------------------------------------------\nCLUSTER #43\nPopular movies: ['Blade Runner', 'Indiana Jones and the Last Crusade', 'Ted', 'Saw', 'The Last Samurai', 'Road to Perdition', 'Brazil', 'The Princess Diaries', 'The Change-Up', 'Eraser', 'Behind Enemy Lines', 'The Wolfman', 'Firewall', 'Awake', 'Sympathy for Lady Vengeance', 'Speed Racer', 'Looney Tunes: Back in Action', 'Stepmom', 'Phenomenon', 'The Weather Man']\n--------------------------------------------------------------------------------\nCLUSTER #180\nPopular movies: ['Gone Girl', 'Saving Private Ryan', 'The Thing', 'Wild Card', 'Blackhat', 'Equilibrium', 'Immortals', '1408', 'The Sting', 'Machete', 'Hero', 'Runner Runner', 'Jonah Hex', 'The Life of David Gale', 'Jumper', 'A Man Apart', 'Ghost Dog: The Way of the Samurai', 'The Thomas Crown Affair', 'The Informant!', 'What Lies Beneath']\n--------------------------------------------------------------------------------\nCLUSTER #17\nPopular movies: ['The Shawshank Redemption', 'Inside Out', 'Batman Begins', 'Psycho', 'Cars', 'Ice Age: Dawn of the Dinosaurs', 'Beetlejuice', 'The Chronicles of Narnia: Prince Caspian', 'The Witch', 'Madagascar', '16 Blocks', 'Last Action Hero', '25th Hour', 'P.S. I Love You', 'Bridget Jones: The Edge of Reason', 'The House Bunny', 'The Jacket', 'Any Given Sunday', 'Killers', 'Videodrome']\n--------------------------------------------------------------------------------\nCLUSTER #111\nPopular movies: ['Whiplash', \"Howl's Moving Castle\", 'Jack Ryan: Shadow Recruit', 'Mr. Peabody & Sherman', 'Young Frankenstein', 'The Final Destination', 'Savages', 'Sinister 2', 'The Darkest Hour', 'Wall Street: Money Never Sleeps', 'The Score', 'Doubt', 'Revolutionary Road', 'Crimson Tide', 'The Ides of March', 'Let Me In', 'Maniac', 'Winnie the Pooh', 'Shaolin Soccer', 'The Cold Light of Day']\n--------------------------------------------------------------------------------\n"
    }
   ],
   "source": [
    "df['affprop_cluster'] = ap.labels_\n",
    "filtered_clusters = [item[0] for item in res.most_common(8)]\n",
    "filtered_df = df[df['affprop_cluster'].isin(filtered_clusters)]\n",
    "movie_clusters = (filtered_df[['title', 'affprop_cluster', 'popularity']]\n",
    "                .sort_values(by=['affprop_cluster', 'popularity'], ascending=False)\n",
    "                .groupby('affprop_cluster').head(20))\n",
    "movie_clusters = movie_clusters.copy(deep=True)\n",
    "\n",
    "# get key features for each cluster\n",
    "# get moviesbelonging to each cluster\n",
    "for cluster_num in range(len(filtered_clusters)):\n",
    "    movies = movie_clusters[movie_clusters['affprop_cluster'] == \n",
    "        filtered_clusters[cluster_num]]['title'].values.tolist()\n",
    "    print('CLUSTER #' + str(filtered_clusters[cluster_num]))\n",
    "    print('Popular movies:', movies)\n",
    "    print('-'*80)"
   ]
  },
  {
   "cell_type": "markdown",
   "metadata": {},
   "source": [
    "## Ward's Agglomerative Hierarchical Clustering\n",
    "\n",
    "Sounds fancy. Starting on page 514."
   ]
  },
  {
   "cell_type": "code",
   "execution_count": null,
   "metadata": {},
   "outputs": [],
   "source": [
    "from scipy.cluster.hierarchy import ward, dendrogram\n",
    "from sklearn.metrics.pairwise import cosine_similarity\n",
    "\n",
    "def ward_hierarchical_clustering(feature_matrix):\n",
    "    cosine_distance = 1 = cosine_similarity(feature_matrix)\n",
    "    linkage_matrix = ward(cosine_distance)\n",
    "    return linkage_matrix\n",
    "\n",
    "def plot_hierarchical_clusters(linkage_matrix, movie_data, p=100, figure_size=(8,12)):"
   ]
  }
 ],
 "metadata": {
  "kernelspec": {
   "display_name": "Python 3",
   "language": "python",
   "name": "python3"
  },
  "language_info": {
   "codemirror_mode": {
    "name": "ipython",
    "version": 3
   },
   "file_extension": ".py",
   "mimetype": "text/x-python",
   "name": "python",
   "nbconvert_exporter": "python",
   "pygments_lexer": "ipython3",
   "version": "3.7.3"
  }
 },
 "nbformat": 4,
 "nbformat_minor": 2
}