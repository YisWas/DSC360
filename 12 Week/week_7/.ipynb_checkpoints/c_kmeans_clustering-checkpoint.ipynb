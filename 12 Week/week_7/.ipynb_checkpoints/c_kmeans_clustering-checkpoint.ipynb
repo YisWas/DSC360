{
 "cells": [
  {
   "cell_type": "markdown",
   "metadata": {},
   "source": [
    "# Chapter 7 - K-Means Clustering\n",
    "\n",
    "Switched to Jupyter Notebooks because the fit operations begin to take a longer period of time. With Jupyter, the results are retained in memory (for each code block) so you only need to run them (and wait) once. From there, it's possible to work on the results from memory."
   ]
  },
  {
   "cell_type": "markdown",
   "metadata": {},
   "source": [
    "## Feature Engineering"
   ]
  },
  {
   "cell_type": "code",
   "execution_count": 15,
   "metadata": {},
   "outputs": [
    {
     "name": "stdout",
     "output_type": "stream",
     "text": [
      "<class 'pandas.core.frame.DataFrame'>\n",
      "Int64Index: 3959 entries, 0 to 4798\n",
      "Data columns (total 7 columns):\n",
      "Unnamed: 0     3959 non-null int64\n",
      "title          3959 non-null object\n",
      "tagline        3959 non-null object\n",
      "overview       3959 non-null object\n",
      "genres         3959 non-null object\n",
      "popularity     3959 non-null float64\n",
      "description    3959 non-null object\n",
      "dtypes: float64(1), int64(1), object(5)\n",
      "memory usage: 247.4+ KB\n",
      "None\n",
      "Norm corpus matrix shape:\n",
      " (3959, 2551) \n",
      "\n"
     ]
    }
   ],
   "source": [
    "import numpy as np\n",
    "import pandas as pd\n",
    "import nltk\n",
    "from sklearn.feature_extraction.text import CountVectorizer\n",
    "\n",
    "stop_words = nltk.corpus.stopwords.words('english')\n",
    "stop_words = stop_words + ['one', 'two', 'get']\n",
    "\n",
    "# load the corpus created in b_movie_recommender.py\n",
    "df = pd.read_csv('./data/norm_corpus.csv')\n",
    "# For some reason, a row is nan, drop it\n",
    "df.dropna(inplace=True)\n",
    "print(df.info())\n",
    "\n",
    "norm_corpus = df['description']\n",
    "\n",
    "cv = CountVectorizer(ngram_range=(1, 2), min_df=10, max_df=0.8,\n",
    "                     stop_words=stop_words)\n",
    "cv_matrix = cv.fit_transform(norm_corpus)\n",
    "print('Norm corpus matrix shape:\\n', cv_matrix.shape, '\\n')"
   ]
  },
  {
   "cell_type": "markdown",
   "metadata": {},
   "source": [
    "## K-Means Clustering"
   ]
  },
  {
   "cell_type": "code",
   "execution_count": 16,
   "metadata": {},
   "outputs": [
    {
     "name": "stdout",
     "output_type": "stream",
     "text": [
      "K-Means:\n",
      " KMeans(algorithm='auto', copy_x=True, init='k-means++', max_iter=10000,\n",
      "    n_clusters=6, n_init=50, n_jobs=None, precompute_distances='auto',\n",
      "    random_state=42, tol=0.0001, verbose=0) \n",
      "\n"
     ]
    }
   ],
   "source": [
    "# Kmeans clustering starting on page 502\n",
    "from sklearn.cluster import KMeans\n",
    "\n",
    "NUM_CLUSTERS=6\n",
    "km = KMeans(n_clusters=NUM_CLUSTERS, max_iter=10000, n_init=50, random_state=42).fit(cv_matrix)\n",
    "print('K-Means:\\n', km, '\\n')"
   ]
  },
  {
   "cell_type": "code",
   "execution_count": 17,
   "metadata": {},
   "outputs": [
    {
     "name": "stdout",
     "output_type": "stream",
     "text": [
      "Labels:\n",
      " Counter({2: 2187, 3: 524, 1: 441, 4: 419, 0: 387, 5: 1})\n"
     ]
    }
   ],
   "source": [
    "df['kmeans_cluster'] = km.labels_\n",
    "\n",
    "# viewing distribution of movies across the cluster\n",
    "from collections import Counter\n",
    "print('Labels:\\n', Counter(km.labels_))"
   ]
  },
  {
   "cell_type": "code",
   "execution_count": 22,
   "metadata": {},
   "outputs": [
    {
     "name": "stdout",
     "output_type": "stream",
     "text": [
      "CLUSTER #1\n",
      "Key Features: ['love', 'life', 'story', 'find', 'man', 'young', 'falls', 'true', 'woman', 'finds', 'fall', 'father', 'never', 'new', 'falls love']\n",
      "Popular Movies: ['Pirates of the Caribbean: The Curse of the Black Pearl', 'Frozen', 'Forrest Gump', 'Pirates of the Caribbean: On Stranger Tides', 'Twilight', 'Spider-Man 3', 'Bruce Almighty', 'Quantum of Solace', 'The Twilight Saga: Eclipse', 'The Twilight Saga: New Moon', 'Aladdin', 'The Age of Adaline', 'The Fault in Our Stars', 'Amélie', 'Sex Tape', 'Million Dollar Baby', 'The Hunger Games', 'Grease', 'Troy', 'Room']\n",
      "--------------------------------------------------------------------------------\n",
      "CLUSTER #2\n",
      "Key Features: ['new', 'york', 'new york', 'city', 'young', 'family', 'york city', 'years', 'friends', 'man', 'must', 'town', 'find', 'back', 'home']\n",
      "Popular Movies: ['Terminator Genisys', 'Fight Club', 'Teenage Mutant Ninja Turtles', 'Pixels', 'Despicable Me 2', 'Avengers: Age of Ultron', 'Night at the Museum: Secret of the Tomb', 'Batman Begins', 'The Dark Knight Rises', 'The Lord of the Rings: The Two Towers', 'The Godfather: Part II', 'How to Train Your Dragon 2', '12 Years a Slave', 'The Wolf of Wall Street', 'Men in Black II', \"Pan's Labyrinth\", 'The Bourne Legacy', 'The Amazing Spider-Man 2', 'The Devil Wears Prada', 'Non-Stop']\n",
      "--------------------------------------------------------------------------------\n",
      "CLUSTER #3\n",
      "Key Features: ['man', 'young', 'story', 'family', 'find', 'must', 'time', 'back', 'friends', 'way', 'hes', 'years', 'take', 'help', 'father']\n",
      "Popular Movies: ['Interstellar', 'Guardians of the Galaxy', 'Dawn of the Planet of the Apes', 'The Hunger Games: Mockingjay - Part 1', 'Big Hero 6', 'Whiplash', 'The Dark Knight', 'The Martian', \"Pirates of the Caribbean: Dead Man's Chest\", 'Gone Girl', 'X-Men: Apocalypse', 'Rise of the Planet of the Apes', 'The Lord of the Rings: The Fellowship of the Ring', \"One Flew Over the Cuckoo's Nest\", 'The Hunger Games: Mockingjay - Part 2', 'Star Wars', 'Brave', 'The Lord of the Rings: The Return of the King', 'Pulp Fiction', 'The Hobbit: The Battle of the Five Armies']\n",
      "--------------------------------------------------------------------------------\n",
      "CLUSTER #4\n",
      "Key Features: ['life', 'man', 'family', 'young', 'new', 'story', 'back', 'time', 'death', 'hes', 'finds', 'find', 'father', 'must', 'son']\n",
      "Popular Movies: ['Deadpool', 'Mad Max: Fury Road', 'Inception', 'The Godfather', \"Pirates of the Caribbean: At World's End\", 'The Shawshank Redemption', 'Harry Potter and the Chamber of Secrets', 'Inside Out', 'Maleficent', \"Harry Potter and the Philosopher's Stone\", 'The Hobbit: An Unexpected Journey', 'Titanic', 'Fifty Shades of Grey', 'Blade Runner', 'Psycho', 'The Lion King', 'Taken 3', 'The Bourne Identity', 'The Mask', 'Cars']\n",
      "--------------------------------------------------------------------------------\n",
      "CLUSTER #5\n",
      "Key Features: ['world', 'war', 'man', 'find', 'young', 'world war', 'story', 'must', 'new', 'save', 'time', 'evil', 'way', 'ii', 'family']\n",
      "Popular Movies: ['Minions', 'Jurassic World', 'Captain America: Civil War', 'Batman v Superman: Dawn of Justice', 'Avatar', 'The Imitation Game', 'The Avengers', 'Fury', 'The Maze Runner', 'Tomorrowland', 'Ant-Man', 'Spirited Away', 'Chappie', 'Monsters, Inc.', \"Schindler's List\", 'The Matrix', 'Man of Steel', 'Skyfall', 'The Adventures of Tintin', 'Nightcrawler']\n",
      "--------------------------------------------------------------------------------\n",
      "CLUSTER #6\n",
      "Key Features: ['mike', 'ring', 'wife', 'meet', 'always', 'may', 'events', 'evening', 'making', 'makes', 'angeles', 'wants', 'way', 'barely', 'introduces']\n",
      "Popular Movies: ['Redbelt']\n",
      "--------------------------------------------------------------------------------\n"
     ]
    }
   ],
   "source": [
    "movie_clusters = (df[['title', 'kmeans_cluster', 'popularity']]\n",
    "                 .sort_values(by=['kmeans_cluster', 'popularity'], ascending=False)\n",
    "                 .groupby('kmeans_cluster').head(20))\n",
    "movie_clusters = movie_clusters.copy(deep=True)\n",
    "feature_names = cv.get_feature_names()\n",
    "topn_features = 15\n",
    "ordered_centroids = km.cluster_centers_.argsort()[:, ::-1]\n",
    "\n",
    "# get key features for each cluster\n",
    "# get movies belonging to each cluster\n",
    "for cluster_num in range(NUM_CLUSTERS):\n",
    "    key_features = [feature_names[index] for index in ordered_centroids[cluster_num, :topn_features]]\n",
    "    movies = movie_clusters[movie_clusters['kmeans_cluster'] == cluster_num]['title'].values.tolist()\n",
    "    print('CLUSTER #' + str(cluster_num+1))\n",
    "    print('Key Features:', key_features)\n",
    "    print('Popular Movies:', movies)\n",
    "    print('-'*80)"
   ]
  },
  {
   "cell_type": "markdown",
   "metadata": {},
   "source": [
    "## More Movie Groupings"
   ]
  },
  {
   "cell_type": "code",
   "execution_count": 23,
   "metadata": {},
   "outputs": [
    {
     "name": "stdout",
     "output_type": "stream",
     "text": [
      "Labels:\n",
      " Counter({3: 2030, 2: 576, 4: 438, 5: 390, 1: 280, 0: 245})\n"
     ]
    }
   ],
   "source": [
    "from sklearn.metrics.pairwise import cosine_similarity\n",
    "\n",
    "cosine_sim_features = cosine_similarity(cv_matrix)\n",
    "km = KMeans(n_clusters=NUM_CLUSTERS, max_iter=10000, n_init=50, random_state=42).fit(cosine_sim_features)\n",
    "print('Labels:\\n', Counter(km.labels_))"
   ]
  },
  {
   "cell_type": "code",
   "execution_count": 24,
   "metadata": {},
   "outputs": [
    {
     "name": "stdout",
     "output_type": "stream",
     "text": [
      "CLUSTER #1\n",
      "Popular Movies: ['The Imitation Game', 'Maleficent', 'Titanic', '12 Years a Slave', 'The Prestige', 'The Grand Budapest Hotel', 'The Fault in Our Stars', 'Catch Me If You Can', 'Cloud Atlas', 'The Conjuring 2', 'Apollo 13', 'Aliens', 'The Usual Suspects', 'GoodFellas', 'Straight Outta Compton', \"The Huntsman: Winter's War\", 'Mary Poppins', 'The Lego Movie', 'Starship Troopers', 'The Big Short']\n",
      "--------------------------------------------------------------------------------\n",
      "CLUSTER #2\n",
      "Popular Movies: ['Pirates of the Caribbean: The Curse of the Black Pearl', 'Frozen', 'Forrest Gump', 'Pirates of the Caribbean: On Stranger Tides', 'Spider-Man 3', 'Quantum of Solace', 'The Twilight Saga: New Moon', 'Aladdin', 'Sex Tape', 'Grease', 'Troy', 'The Princess and the Frog', '50 First Dates', 'The Theory of Everything', 'Braveheart', 'Slumdog Millionaire', 'Cast Away', 'Moulin Rouge!', \"There's Something About Mary\", 'Need for Speed']\n",
      "--------------------------------------------------------------------------------\n",
      "CLUSTER #3\n",
      "Popular Movies: ['Deadpool', 'Mad Max: Fury Road', 'Inception', 'The Godfather', \"Pirates of the Caribbean: At World's End\", 'The Shawshank Redemption', 'Harry Potter and the Chamber of Secrets', 'Inside Out', 'Twilight', \"Harry Potter and the Philosopher's Stone\", 'Bruce Almighty', 'The Hobbit: An Unexpected Journey', 'The Twilight Saga: Eclipse', 'Fifty Shades of Grey', 'Blade Runner', 'Psycho', 'The Lion King', 'Taken 3', 'The Bourne Identity', 'The Mask']\n",
      "--------------------------------------------------------------------------------\n",
      "CLUSTER #4\n",
      "Popular Movies: ['Interstellar', 'Guardians of the Galaxy', 'Dawn of the Planet of the Apes', 'The Hunger Games: Mockingjay - Part 1', 'Big Hero 6', 'Whiplash', 'The Dark Knight', 'The Martian', \"Pirates of the Caribbean: Dead Man's Chest\", 'Gone Girl', 'X-Men: Apocalypse', 'Rise of the Planet of the Apes', 'The Lord of the Rings: The Fellowship of the Ring', \"One Flew Over the Cuckoo's Nest\", 'The Hunger Games: Mockingjay - Part 2', 'Star Wars', 'Brave', 'The Lord of the Rings: The Return of the King', 'Pulp Fiction', 'The Hobbit: The Battle of the Five Armies']\n",
      "--------------------------------------------------------------------------------\n",
      "CLUSTER #5\n",
      "Popular Movies: ['Terminator Genisys', 'Fight Club', 'Teenage Mutant Ninja Turtles', 'Pixels', 'Despicable Me 2', 'Avengers: Age of Ultron', 'Night at the Museum: Secret of the Tomb', 'Batman Begins', 'The Dark Knight Rises', 'The Lord of the Rings: The Two Towers', 'The Godfather: Part II', 'How to Train Your Dragon 2', 'The Wolf of Wall Street', 'Men in Black II', \"Pan's Labyrinth\", 'The Bourne Legacy', 'The Amazing Spider-Man 2', 'The Devil Wears Prada', 'Non-Stop', 'Horrible Bosses 2']\n",
      "--------------------------------------------------------------------------------\n",
      "CLUSTER #6\n",
      "Popular Movies: ['Minions', 'Jurassic World', 'Captain America: Civil War', 'Batman v Superman: Dawn of Justice', 'Avatar', 'The Avengers', 'Fury', 'The Maze Runner', 'Tomorrowland', 'Ant-Man', 'Spirited Away', 'Chappie', 'Monsters, Inc.', \"Schindler's List\", 'The Matrix', 'Man of Steel', 'Skyfall', 'The Adventures of Tintin', 'Nightcrawler', 'Thor']\n",
      "--------------------------------------------------------------------------------\n"
     ]
    }
   ],
   "source": [
    "df['kmeans_cluster'] = km.labels_\n",
    "\n",
    "movie_clusters = (df[['title', 'kmeans_cluster', 'popularity']]\n",
    "                 .sort_values(by=['kmeans_cluster', 'popularity'], ascending=False)\n",
    "                 .groupby('kmeans_cluster').head(20))\n",
    "\n",
    "# get movies belonging to each cluster\n",
    "for cluster_num in range(NUM_CLUSTERS):\n",
    "    movies = movie_clusters[movie_clusters['kmeans_cluster'] == cluster_num]['title'].values.tolist()\n",
    "    print('CLUSTER #' + str(cluster_num+1))\n",
    "    print('Popular Movies:', movies)\n",
    "    print('-'*80)"
   ]
  },
  {
   "cell_type": "markdown",
   "metadata": {},
   "source": [
    "## Affinity Propogation - Starting on Page 510"
   ]
  },
  {
   "cell_type": "code",
   "execution_count": null,
   "metadata": {},
   "outputs": [],
   "source": []
  }
 ],
 "metadata": {
  "kernelspec": {
   "display_name": "Python 3",
   "language": "python",
   "name": "python3"
  },
  "language_info": {
   "codemirror_mode": {
    "name": "ipython",
    "version": 3
   },
   "file_extension": ".py",
   "mimetype": "text/x-python",
   "name": "python",
   "nbconvert_exporter": "python",
   "pygments_lexer": "ipython3",
   "version": "3.7.3"
  }
 },
 "nbformat": 4,
 "nbformat_minor": 2
}
